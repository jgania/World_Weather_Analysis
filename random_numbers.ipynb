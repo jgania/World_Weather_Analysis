{
 "cells": [
  {
   "cell_type": "code",
   "execution_count": 29,
   "id": "3b2c48dc",
   "metadata": {},
   "outputs": [],
   "source": [
    "# Import the random module.\n",
    "import random\n",
    "# Import the NumPy module.\n",
    "import numpy as np\n",
    "# Import timeit.\n",
    "import timeit"
   ]
  },
  {
   "cell_type": "code",
   "execution_count": 19,
   "id": "a2ed0fc2",
   "metadata": {},
   "outputs": [
    {
     "data": {
      "text/plain": [
       "0.7866837214264226"
      ]
     },
     "execution_count": 19,
     "metadata": {},
     "output_type": "execute_result"
    }
   ],
   "source": [
    "random.random()"
   ]
  },
  {
   "cell_type": "code",
   "execution_count": 4,
   "id": "508d6645",
   "metadata": {},
   "outputs": [
    {
     "data": {
      "text/plain": [
       "-2"
      ]
     },
     "execution_count": 4,
     "metadata": {},
     "output_type": "execute_result"
    }
   ],
   "source": [
    "random.randint(-10,10)"
   ]
  },
  {
   "cell_type": "code",
   "execution_count": 11,
   "id": "e1905514",
   "metadata": {},
   "outputs": [
    {
     "data": {
      "text/plain": [
       "-1"
      ]
     },
     "execution_count": 11,
     "metadata": {},
     "output_type": "execute_result"
    }
   ],
   "source": [
    "# Coundries followed by a step modifier\n",
    "random.randrange(-9,9,2)"
   ]
  },
  {
   "cell_type": "code",
   "execution_count": 9,
   "id": "21652f9f",
   "metadata": {},
   "outputs": [
    {
     "data": {
      "text/plain": [
       "-6.5849472560871"
      ]
     },
     "execution_count": 9,
     "metadata": {},
     "output_type": "execute_result"
    }
   ],
   "source": [
    "random.uniform(-10,10)"
   ]
  },
  {
   "cell_type": "code",
   "execution_count": 12,
   "id": "ad29e7ff",
   "metadata": {},
   "outputs": [
    {
     "data": {
      "text/plain": [
       "-40"
      ]
     },
     "execution_count": 12,
     "metadata": {},
     "output_type": "execute_result"
    }
   ],
   "source": [
    "# random\".\" allows you to see all library functions. \n",
    "random.randint(-90,90)"
   ]
  },
  {
   "cell_type": "code",
   "execution_count": 21,
   "id": "07af757f",
   "metadata": {},
   "outputs": [
    {
     "data": {
      "text/plain": [
       "[55.84602973428326,\n",
       " -20.97858918000845,\n",
       " -30.43826610749587,\n",
       " -41.14348693415941,\n",
       " 85.60746049405522,\n",
       " -60.59032735152007,\n",
       " 88.36442133607635,\n",
       " 77.41511463898259,\n",
       " -84.69755627484943,\n",
       " -7.050260381705874]"
      ]
     },
     "execution_count": 21,
     "metadata": {},
     "output_type": "execute_result"
    }
   ],
   "source": [
    "# We are using \"+random.random()\" as the random decimal following 89 so it doesn't go above 90. \n",
    "# Thus we use 89 as a parameter uinstead of 90.\n",
    "x = 1\n",
    "latitudes = []\n",
    "while x < 11:\n",
    "    random_lat = random.randint(-90, 89) + random.random()\n",
    "    latitudes.append(random_lat)\n",
    "    x += 1\n",
    "latitudes"
   ]
  },
  {
   "cell_type": "code",
   "execution_count": 24,
   "id": "3f074193",
   "metadata": {},
   "outputs": [
    {
     "data": {
      "text/plain": [
       "-81.81472691118192"
      ]
     },
     "execution_count": 24,
     "metadata": {},
     "output_type": "execute_result"
    }
   ],
   "source": [
    "np.random.uniform(-90, 90)"
   ]
  },
  {
   "cell_type": "code",
   "execution_count": 25,
   "id": "3bdf205b",
   "metadata": {},
   "outputs": [
    {
     "data": {
      "text/plain": [
       "array([-65.69498379, -82.95232157,  26.47219656,  51.79741108,\n",
       "        75.94649962,  62.84925068, -47.34793148,  77.5076696 ,\n",
       "       -71.95675497, -82.29290866, -38.31836658, -36.33317423,\n",
       "        72.21173151,  41.83319644,  43.40385628, -75.0669022 ,\n",
       "        15.48628374,  21.89070639, -80.68061828,  42.55980684,\n",
       "        48.10663279, -20.95990917,  -4.28929684,  -6.60769046,\n",
       "        -8.99139154, -75.93502905, -52.97793642, -16.04907675,\n",
       "        42.27195988,  29.8988966 , -55.17008195, -26.13779772,\n",
       "       -31.98431457, -69.1132123 ,   2.41610591,  20.14752524,\n",
       "        25.10983247, -59.07291596, -84.23281107,  44.22977405,\n",
       "       -42.08645409, -73.85284601,   3.71844899,  -3.86880714,\n",
       "        47.20863097, -45.57395564,  41.5310292 , -67.47832949,\n",
       "        46.64681274, -77.42804005])"
      ]
     },
     "execution_count": 25,
     "metadata": {},
     "output_type": "execute_result"
    }
   ],
   "source": [
    "np.random.uniform(-90.000, 90.000, size=50)"
   ]
  },
  {
   "cell_type": "code",
   "execution_count": 30,
   "id": "e7f66e7d",
   "metadata": {},
   "outputs": [
    {
     "name": "stdout",
     "output_type": "stream",
     "text": [
      "8.95 µs ± 172 ns per loop (mean ± std. dev. of 7 runs, 100,000 loops each)\n"
     ]
    }
   ],
   "source": [
    "%timeit np.random.uniform(-90.000, 90.000, size=1500)"
   ]
  },
  {
   "cell_type": "code",
   "execution_count": 31,
   "id": "affdaeb4",
   "metadata": {},
   "outputs": [
    {
     "name": "stdout",
     "output_type": "stream",
     "text": [
      "878 µs ± 9.27 µs per loop (mean ± std. dev. of 7 runs, 1,000 loops each)\n"
     ]
    }
   ],
   "source": [
    "def latitudes(size):\n",
    "    latitudes = []\n",
    "    x = 0\n",
    "    while x < (size):\n",
    "        random_lat = random.randint(-90, 90) + random.random()\n",
    "        latitudes.append(random_lat)\n",
    "        x += 1\n",
    "    return latitudes\n",
    "# Call the function with 1500.\n",
    "%timeit latitudes(1500)"
   ]
  },
  {
   "cell_type": "code",
   "execution_count": null,
   "id": "635bca30",
   "metadata": {},
   "outputs": [],
   "source": []
  }
 ],
 "metadata": {
  "kernelspec": {
   "display_name": "PythonData",
   "language": "python",
   "name": "pythondata"
  },
  "language_info": {
   "codemirror_mode": {
    "name": "ipython",
    "version": 3
   },
   "file_extension": ".py",
   "mimetype": "text/x-python",
   "name": "python",
   "nbconvert_exporter": "python",
   "pygments_lexer": "ipython3",
   "version": "3.9.12"
  }
 },
 "nbformat": 4,
 "nbformat_minor": 5
}
